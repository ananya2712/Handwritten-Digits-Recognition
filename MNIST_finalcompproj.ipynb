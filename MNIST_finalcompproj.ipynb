{
  "nbformat": 4,
  "nbformat_minor": 0,
  "metadata": {
    "colab": {
      "name": "MNIST finalcompproj.ipynb",
      "provenance": [],
      "collapsed_sections": []
    },
    "kernelspec": {
      "name": "python3",
      "display_name": "Python 3"
    }
  },
  "cells": [
    {
      "cell_type": "code",
      "metadata": {
        "id": "WiLM0vDyX42l",
        "colab": {
          "base_uri": "https://localhost:8080/",
          "height": 86
        },
        "outputId": "fe23a13b-4214-4f26-da66-0c4ba684268f"
      },
      "source": [
        "'''\n",
        "CNNs, like neural networks, are made up of neurons with learnable weights and biases. \n",
        "Each neuron receives several inputs, takes a weighted sum over them, pass it through an activation function and responds with an output.\n",
        "The whole network has a loss function and all the tips and tricks that we developed for neural networks still apply on CNNs.\n",
        "\n",
        "A convolution is an operation that changes a function into something else. \n",
        "We do convolutions so that we can transform the original function into a form to get more information.\n",
        "\n",
        "'''"
      ],
      "execution_count": null,
      "outputs": [
        {
          "output_type": "execute_result",
          "data": {
            "application/vnd.google.colaboratory.intrinsic+json": {
              "type": "string"
            },
            "text/plain": [
              "'\\nCNNs, like neural networks, are made up of neurons with learnable weights and biases. \\nEach neuron receives several inputs, takes a weighted sum over them, pass it through an activation function and responds with an output.\\nThe whole network has a loss function and all the tips and tricks that we developed for neural networks still apply on CNNs.\\n\\nA convolution is an operation that changes a function into something else. \\nWe do convolutions so that we can transform the original function into a form to get more information.\\n\\n'"
            ]
          },
          "metadata": {},
          "execution_count": 1
        }
      ]
    },
    {
      "cell_type": "code",
      "metadata": {
        "id": "Q0DgoA1caoUh",
        "colab": {
          "base_uri": "https://localhost:8080/",
          "height": 80
        },
        "outputId": "d8e954fe-5175-49d8-85c6-dea943cb7227"
      },
      "source": [
        "# importing all the required modules\n",
        "\n",
        "import numpy as np # numpy for working with images as 3D arrays\n",
        "import keras # open-source neural network library\n",
        "from keras import backend as k\n",
        "from keras.datasets import mnist # importing the mnist datatset\n",
        "from keras.models import Model # import the Model function for training and testing the model\n",
        "\n",
        "# A Dense layer feeds all outputs from the previous layer to all its neurons, each neuron providing one output to the next layer.\n",
        "\n",
        "from keras.layers import Dense, Input\n",
        "\n",
        "# Pooling helps the layer generalize because it effectively combines several values into a single one, this decreases the chance of overfitting\n",
        "# Dropout layer initializes a set of inputs to zero, to reduce Overfitting.\n",
        "\n",
        "from keras.layers import Conv2D, MaxPooling2D, Dropout, Flatten \n",
        " \n"
      ],
      "execution_count": null,
      "outputs": [
        {
          "output_type": "stream",
          "text": [
            "Using TensorFlow backend.\n"
          ],
          "name": "stderr"
        },
        {
          "output_type": "display_data",
          "data": {
            "text/html": [
              "<p style=\"color: red;\">\n",
              "The default version of TensorFlow in Colab will soon switch to TensorFlow 2.x.<br>\n",
              "We recommend you <a href=\"https://www.tensorflow.org/guide/migrate\" target=\"_blank\">upgrade</a> now \n",
              "or ensure your notebook will continue to use TensorFlow 1.x via the <code>%tensorflow_version 1.x</code> magic:\n",
              "<a href=\"https://colab.research.google.com/notebooks/tensorflow_version.ipynb\" target=\"_blank\">more info</a>.</p>\n"
            ],
            "text/plain": [
              "<IPython.core.display.HTML object>"
            ]
          },
          "metadata": {
            "tags": []
          }
        }
      ]
    },
    {
      "cell_type": "code",
      "metadata": {
        "id": "ru2ZDQOXaxNJ",
        "colab": {
          "base_uri": "https://localhost:8080/",
          "height": 50
        },
        "outputId": "8244aa9a-cd4a-43b0-e69a-46ced4475c51"
      },
      "source": [
        "# loading the datasets into 60000 train images and 10000 test images\n",
        "# x and y are input and output arrays\n",
        "\n",
        "(x_train, y_train), (x_test, y_test) = mnist.load_data() "
      ],
      "execution_count": null,
      "outputs": [
        {
          "output_type": "stream",
          "text": [
            "Downloading data from https://s3.amazonaws.com/img-datasets/mnist.npz\n",
            "11493376/11490434 [==============================] - 1s 0us/step\n"
          ],
          "name": "stdout"
        }
      ]
    },
    {
      "cell_type": "code",
      "metadata": {
        "id": "neUuJlaAdonG",
        "colab": {
          "base_uri": "https://localhost:8080/",
          "height": 50
        },
        "outputId": "3b15a34d-21f4-4726-c74b-3d688ab95698"
      },
      "source": [
        "# to find dimensions of 3D x_train and x_test\n",
        "\n",
        "print(np.shape(x_train))\n",
        "print(np.shape(x_test))"
      ],
      "execution_count": null,
      "outputs": [
        {
          "output_type": "stream",
          "text": [
            "(60000, 28, 28)\n",
            "(10000, 28, 28)\n"
          ],
          "name": "stdout"
        }
      ]
    },
    {
      "cell_type": "code",
      "metadata": {
        "id": "UH2-XPyF1KJA",
        "colab": {
          "base_uri": "https://localhost:8080/",
          "height": 34
        },
        "outputId": "f38c33ac-8b1f-4dd5-bfdd-9e8c8e25b9ac"
      },
      "source": [
        "print(np.shape(x_train[0]))"
      ],
      "execution_count": null,
      "outputs": [
        {
          "output_type": "stream",
          "text": [
            "(28, 28)\n"
          ],
          "name": "stdout"
        }
      ]
    },
    {
      "cell_type": "code",
      "metadata": {
        "id": "j5aInIUZa4tS"
      },
      "source": [
        "# we initialize the pixel values of each input image, and then we reshape the training array for the same\n",
        "\n",
        "image_rows, image_cols=28, 28\n",
        "\n",
        "if k.image_data_format() == 'channels_first': \n",
        "\n",
        "  # the number of training data inputs is 60000, which is returned by x_train.shape[0]\n",
        "  x_train = x_train.reshape(x_train.shape[0], 1, img_rows, img_cols) \n",
        "\n",
        "  # the number of training data inputs is 10000, which is returned by x_train.shape[0]\n",
        "  x_test = x_test.reshape(x_test.shape[0], 1, img_rows, img_cols) \n",
        "\n",
        "  # inpx contains dimensions of the arrays\n",
        "  inpx = (1, image_rows, image_cols) \n",
        "\n",
        "else: \n",
        "\n",
        "  x_train = x_train.reshape(x_train.shape[0], image_rows, image_cols, 1) \n",
        "  \n",
        "  x_test = x_test.reshape(x_test.shape[0], image_rows, image_cols, 1) \n",
        "  \n",
        "  inpx = (image_rows, image_cols, 1) \n",
        "\n",
        "# we need to convert each numerical value to the closest float value, such that large terms are reduced to smaller terms\n",
        "\n",
        "x_train = x_train.astype('float32') \n",
        "x_test = x_test.astype('float32') \n",
        "\n",
        "# to normalize all the values \n",
        "x_train /= 255\n",
        "x_test /= 255\n"
      ],
      "execution_count": null,
      "outputs": []
    },
    {
      "cell_type": "code",
      "metadata": {
        "id": "megIEopxhh3O"
      },
      "source": [
        "y_train = keras.utils.to_categorical(y_train) \n",
        "y_test = keras.utils.to_categorical(y_test) "
      ],
      "execution_count": null,
      "outputs": []
    },
    {
      "cell_type": "code",
      "metadata": {
        "id": "cJnrvBL7hpKp",
        "colab": {
          "base_uri": "https://localhost:8080/",
          "height": 255
        },
        "outputId": "fd8c9170-5bff-4a1a-c881-9aab1b6b66b7"
      },
      "source": [
        "inpx = Input(shape=inpx) \n",
        "layer1 = Conv2D(32, kernel_size=(3, 3), activation='relu')(inpx) \n",
        "layer2 = Conv2D(64, (3, 3), activation='relu')(layer1) \n",
        "layer3 = MaxPooling2D(pool_size=(3, 3))(layer2) \n",
        "layer4 = Dropout(0.5)(layer3) \n",
        "layer5 = Flatten()(layer4) \n",
        "layer6 = Dense(250, activation='sigmoid')(layer5) \n",
        "layer7 = Dense(10, activation='softmax')(layer6) "
      ],
      "execution_count": null,
      "outputs": [
        {
          "output_type": "stream",
          "text": [
            "WARNING:tensorflow:From /usr/local/lib/python3.6/dist-packages/keras/backend/tensorflow_backend.py:66: The name tf.get_default_graph is deprecated. Please use tf.compat.v1.get_default_graph instead.\n",
            "\n",
            "WARNING:tensorflow:From /usr/local/lib/python3.6/dist-packages/keras/backend/tensorflow_backend.py:541: The name tf.placeholder is deprecated. Please use tf.compat.v1.placeholder instead.\n",
            "\n",
            "WARNING:tensorflow:From /usr/local/lib/python3.6/dist-packages/keras/backend/tensorflow_backend.py:4432: The name tf.random_uniform is deprecated. Please use tf.random.uniform instead.\n",
            "\n",
            "WARNING:tensorflow:From /usr/local/lib/python3.6/dist-packages/keras/backend/tensorflow_backend.py:4267: The name tf.nn.max_pool is deprecated. Please use tf.nn.max_pool2d instead.\n",
            "\n",
            "WARNING:tensorflow:From /usr/local/lib/python3.6/dist-packages/keras/backend/tensorflow_backend.py:148: The name tf.placeholder_with_default is deprecated. Please use tf.compat.v1.placeholder_with_default instead.\n",
            "\n",
            "WARNING:tensorflow:From /usr/local/lib/python3.6/dist-packages/keras/backend/tensorflow_backend.py:3733: calling dropout (from tensorflow.python.ops.nn_ops) with keep_prob is deprecated and will be removed in a future version.\n",
            "Instructions for updating:\n",
            "Please use `rate` instead of `keep_prob`. Rate should be set to `rate = 1 - keep_prob`.\n"
          ],
          "name": "stdout"
        }
      ]
    },
    {
      "cell_type": "code",
      "metadata": {
        "id": "wCegsdwbhz6A",
        "colab": {
          "base_uri": "https://localhost:8080/",
          "height": 709
        },
        "outputId": "cbc476e9-c1b4-44ba-c74b-fa91b41c9815"
      },
      "source": [
        "# calling the Model function in keras backend to assemble all layers of the model\n",
        "\n",
        "model = Model([inpx], layer7)\n",
        "\n",
        "# defining the necessary optimizer, loss function, for receiving the accuracy and loss results\n",
        "\n",
        "model.compile(optimizer=keras.optimizers.Adadelta(), \n",
        "\t\t\tloss=keras.losses.categorical_crossentropy, \n",
        "\t\t\tmetrics=['accuracy']) \n",
        "\n",
        "# dividing the model into 8 epochs and giving each epoch a batch size of 500 elements\n",
        "\n",
        "model.fit(x_train, y_train, epochs=8, batch_size=500) \n"
      ],
      "execution_count": null,
      "outputs": [
        {
          "output_type": "stream",
          "text": [
            "WARNING:tensorflow:From /usr/local/lib/python3.6/dist-packages/keras/optimizers.py:793: The name tf.train.Optimizer is deprecated. Please use tf.compat.v1.train.Optimizer instead.\n",
            "\n",
            "WARNING:tensorflow:From /usr/local/lib/python3.6/dist-packages/keras/backend/tensorflow_backend.py:3576: The name tf.log is deprecated. Please use tf.math.log instead.\n",
            "\n",
            "WARNING:tensorflow:From /usr/local/lib/python3.6/dist-packages/tensorflow_core/python/ops/math_grad.py:1424: where (from tensorflow.python.ops.array_ops) is deprecated and will be removed in a future version.\n",
            "Instructions for updating:\n",
            "Use tf.where in 2.0, which has the same broadcast rule as np.where\n",
            "WARNING:tensorflow:From /usr/local/lib/python3.6/dist-packages/keras/backend/tensorflow_backend.py:1033: The name tf.assign_add is deprecated. Please use tf.compat.v1.assign_add instead.\n",
            "\n",
            "WARNING:tensorflow:From /usr/local/lib/python3.6/dist-packages/keras/backend/tensorflow_backend.py:1020: The name tf.assign is deprecated. Please use tf.compat.v1.assign instead.\n",
            "\n",
            "WARNING:tensorflow:From /usr/local/lib/python3.6/dist-packages/keras/backend/tensorflow_backend.py:3005: The name tf.Session is deprecated. Please use tf.compat.v1.Session instead.\n",
            "\n",
            "Epoch 1/8\n",
            "WARNING:tensorflow:From /usr/local/lib/python3.6/dist-packages/keras/backend/tensorflow_backend.py:190: The name tf.get_default_session is deprecated. Please use tf.compat.v1.get_default_session instead.\n",
            "\n",
            "WARNING:tensorflow:From /usr/local/lib/python3.6/dist-packages/keras/backend/tensorflow_backend.py:197: The name tf.ConfigProto is deprecated. Please use tf.compat.v1.ConfigProto instead.\n",
            "\n",
            "WARNING:tensorflow:From /usr/local/lib/python3.6/dist-packages/keras/backend/tensorflow_backend.py:207: The name tf.global_variables is deprecated. Please use tf.compat.v1.global_variables instead.\n",
            "\n",
            "WARNING:tensorflow:From /usr/local/lib/python3.6/dist-packages/keras/backend/tensorflow_backend.py:216: The name tf.is_variable_initialized is deprecated. Please use tf.compat.v1.is_variable_initialized instead.\n",
            "\n",
            "WARNING:tensorflow:From /usr/local/lib/python3.6/dist-packages/keras/backend/tensorflow_backend.py:223: The name tf.variables_initializer is deprecated. Please use tf.compat.v1.variables_initializer instead.\n",
            "\n",
            "60000/60000 [==============================] - 119s 2ms/step - loss: 0.7353 - acc: 0.7700\n",
            "Epoch 2/8\n",
            "60000/60000 [==============================] - 118s 2ms/step - loss: 0.2270 - acc: 0.9357\n",
            "Epoch 3/8\n",
            "60000/60000 [==============================] - 118s 2ms/step - loss: 0.1386 - acc: 0.9600\n",
            "Epoch 4/8\n",
            "60000/60000 [==============================] - 118s 2ms/step - loss: 0.1005 - acc: 0.9712\n",
            "Epoch 5/8\n",
            "60000/60000 [==============================] - 118s 2ms/step - loss: 0.0813 - acc: 0.9762\n",
            "Epoch 6/8\n",
            "60000/60000 [==============================] - 118s 2ms/step - loss: 0.0695 - acc: 0.9795\n",
            "Epoch 7/8\n",
            "60000/60000 [==============================] - 118s 2ms/step - loss: 0.0604 - acc: 0.9822\n",
            "Epoch 8/8\n",
            "60000/60000 [==============================] - 118s 2ms/step - loss: 0.0538 - acc: 0.9841\n"
          ],
          "name": "stdout"
        },
        {
          "output_type": "execute_result",
          "data": {
            "text/plain": [
              "<keras.callbacks.History at 0x7fa59bcc3080>"
            ]
          },
          "metadata": {
            "tags": []
          },
          "execution_count": 9
        }
      ]
    },
    {
      "cell_type": "code",
      "metadata": {
        "id": "J_JzLOOXw1-J",
        "colab": {
          "base_uri": "https://localhost:8080/",
          "height": 420
        },
        "outputId": "6caae529-b782-4b10-99d6-355a0eda9ef2"
      },
      "source": [
        "# to show summary of model\n",
        "\n",
        "model.summary()"
      ],
      "execution_count": null,
      "outputs": [
        {
          "output_type": "stream",
          "text": [
            "Model: \"model_1\"\n",
            "_________________________________________________________________\n",
            "Layer (type)                 Output Shape              Param #   \n",
            "=================================================================\n",
            "input_1 (InputLayer)         (None, 28, 28, 1)         0         \n",
            "_________________________________________________________________\n",
            "conv2d_1 (Conv2D)            (None, 26, 26, 32)        320       \n",
            "_________________________________________________________________\n",
            "conv2d_2 (Conv2D)            (None, 24, 24, 64)        18496     \n",
            "_________________________________________________________________\n",
            "max_pooling2d_1 (MaxPooling2 (None, 8, 8, 64)          0         \n",
            "_________________________________________________________________\n",
            "dropout_1 (Dropout)          (None, 8, 8, 64)          0         \n",
            "_________________________________________________________________\n",
            "flatten_1 (Flatten)          (None, 4096)              0         \n",
            "_________________________________________________________________\n",
            "dense_1 (Dense)              (None, 250)               1024250   \n",
            "_________________________________________________________________\n",
            "dense_2 (Dense)              (None, 10)                2510      \n",
            "=================================================================\n",
            "Total params: 1,045,576\n",
            "Trainable params: 1,045,576\n",
            "Non-trainable params: 0\n",
            "_________________________________________________________________\n"
          ],
          "name": "stdout"
        }
      ]
    },
    {
      "cell_type": "code",
      "metadata": {
        "id": "G81umQmifK7d",
        "colab": {
          "base_uri": "https://localhost:8080/",
          "height": 231
        },
        "outputId": "a48d33de-e465-4c7a-9f5c-e6cf17933073"
      },
      "source": [
        "# to show the sample working of model, by using matplotlib to plot the number and its corresponding output.\n",
        "\n",
        "print(np.shape(x_train[0]))\n",
        "\n",
        "inp=x_test[0]\n",
        "outp=y_test[0]\n",
        "\n",
        "inp2=inp.reshape(28,28)\n",
        "\n",
        "plt.imshow(inp2, cmap='gray')\n",
        "plt.show()\n",
        "\n",
        "print(outp)"
      ],
      "execution_count": null,
      "outputs": [
        {
          "output_type": "error",
          "ename": "NameError",
          "evalue": "ignored",
          "traceback": [
            "\u001b[0;31m---------------------------------------------------------------------------\u001b[0m",
            "\u001b[0;31mNameError\u001b[0m                                 Traceback (most recent call last)",
            "\u001b[0;32m<ipython-input-1-172751f2ec20>\u001b[0m in \u001b[0;36m<module>\u001b[0;34m()\u001b[0m\n\u001b[1;32m      1\u001b[0m \u001b[0;34m\u001b[0m\u001b[0m\n\u001b[0;32m----> 2\u001b[0;31m \u001b[0mprint\u001b[0m\u001b[0;34m(\u001b[0m\u001b[0mnp\u001b[0m\u001b[0;34m.\u001b[0m\u001b[0mshape\u001b[0m\u001b[0;34m(\u001b[0m\u001b[0mx_train\u001b[0m\u001b[0;34m[\u001b[0m\u001b[0;36m0\u001b[0m\u001b[0;34m]\u001b[0m\u001b[0;34m)\u001b[0m\u001b[0;34m)\u001b[0m\u001b[0;34m\u001b[0m\u001b[0;34m\u001b[0m\u001b[0m\n\u001b[0m\u001b[1;32m      3\u001b[0m \u001b[0;34m\u001b[0m\u001b[0m\n\u001b[1;32m      4\u001b[0m \u001b[0minp\u001b[0m\u001b[0;34m=\u001b[0m\u001b[0mx_test\u001b[0m\u001b[0;34m[\u001b[0m\u001b[0;36m0\u001b[0m\u001b[0;34m]\u001b[0m\u001b[0;34m\u001b[0m\u001b[0;34m\u001b[0m\u001b[0m\n\u001b[1;32m      5\u001b[0m \u001b[0moutp\u001b[0m\u001b[0;34m=\u001b[0m\u001b[0my_test\u001b[0m\u001b[0;34m[\u001b[0m\u001b[0;36m0\u001b[0m\u001b[0;34m]\u001b[0m\u001b[0;34m\u001b[0m\u001b[0;34m\u001b[0m\u001b[0m\n",
            "\u001b[0;31mNameError\u001b[0m: name 'np' is not defined"
          ]
        }
      ]
    }
  ]
}